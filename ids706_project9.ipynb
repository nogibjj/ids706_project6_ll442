{
  "nbformat": 4,
  "nbformat_minor": 0,
  "metadata": {
    "colab": {
      "provenance": []
    },
    "kernelspec": {
      "name": "python3",
      "display_name": "Python 3"
    },
    "language_info": {
      "name": "python"
    }
  },
  "cells": [
    {
      "cell_type": "markdown",
      "source": [
        "# Import Packages and Dataset"
      ],
      "metadata": {
        "id": "djHHjfZDs6YK"
      }
    },
    {
      "cell_type": "code",
      "execution_count": 117,
      "metadata": {
        "id": "I_oEMb25YEH2"
      },
      "outputs": [],
      "source": [
        "import pandas as pd\n",
        "import matplotlib.pyplot as plt\n",
        "from collections import defaultdict\n",
        "import statistics\n",
        "\n",
        "example_csv = \"https://raw.githubusercontent.com/nogibjj/ids706_project9_ll442/4912522c139e982753fcd51a5226ad58ab5c3195/OccupationalEmploymentandWageStatistics.csv\""
      ]
    },
    {
      "cell_type": "markdown",
      "source": [
        "# Read the Dataset"
      ],
      "metadata": {
        "id": "D5UUnC3Hs4qX"
      }
    },
    {
      "cell_type": "code",
      "source": [
        "general_df = pd.read_csv(example_csv)\n",
        "assert general_df is not None"
      ],
      "metadata": {
        "id": "Vc2s0cjudU3-"
      },
      "execution_count": 118,
      "outputs": []
    },
    {
      "cell_type": "markdown",
      "source": [
        "# Show basic property of the dataset"
      ],
      "metadata": {
        "id": "K8tEyJBasyGJ"
      }
    },
    {
      "cell_type": "markdown",
      "source": [
        "The first five rows\n"
      ],
      "metadata": {
        "id": "yLecVGLWtKMO"
      }
    },
    {
      "cell_type": "code",
      "source": [
        "general_df.head()"
      ],
      "metadata": {
        "colab": {
          "base_uri": "https://localhost:8080/",
          "height": 417
        },
        "id": "AtLPBPdZeMGF",
        "outputId": "967f92c4-c50c-4a65-8f30-472c621daea3"
      },
      "execution_count": 119,
      "outputs": [
        {
          "output_type": "execute_result",
          "data": {
            "text/plain": [
              "             Area  Time Period                          Occupation  \\\n",
              "0  North Carolina         2022                          Management   \n",
              "1  North Carolina         2022   Business and Financial Operations   \n",
              "2  North Carolina         2022           Computer and Mathematical   \n",
              "3  North Carolina         2022        Architecture and Engineering   \n",
              "4  North Carolina         2022  Life, Physical, and Social Science   \n",
              "\n",
              "   Occupation Code               Industry Employment   10th %   25th %  \\\n",
              "0           110000  Total, All Industries    285,550  $52,280  $75,480   \n",
              "1           130000  Total, All Industries    302,740  $41,600  $53,990   \n",
              "2           150000  Total, All Industries    172,210  $49,880  $68,990   \n",
              "3           170000  Total, All Industries     68,190  $46,350  $60,940   \n",
              "4           190000  Total, All Industries     41,840  $38,800  $50,010   \n",
              "\n",
              "  Entry level    Median      Mean Experienced    75th %    90th %  \n",
              "0     $60,590  $104,240  $126,640    $159,180  $158,220  $208,000  \n",
              "1     $46,310   $74,530   $82,730    $100,670  $100,330  $132,610  \n",
              "2     $57,450  $102,370  $104,530    $127,710  $133,200  $164,980  \n",
              "3     $51,120   $79,560   $85,090    $101,820  $102,170  $130,970  \n",
              "4     $43,640   $64,470   $74,320     $89,440   $86,070  $120,640  "
            ],
            "text/html": [
              "\n",
              "  <div id=\"df-3f9eeae1-5403-452f-8a4b-98a210cd0942\" class=\"colab-df-container\">\n",
              "    <div>\n",
              "<style scoped>\n",
              "    .dataframe tbody tr th:only-of-type {\n",
              "        vertical-align: middle;\n",
              "    }\n",
              "\n",
              "    .dataframe tbody tr th {\n",
              "        vertical-align: top;\n",
              "    }\n",
              "\n",
              "    .dataframe thead th {\n",
              "        text-align: right;\n",
              "    }\n",
              "</style>\n",
              "<table border=\"1\" class=\"dataframe\">\n",
              "  <thead>\n",
              "    <tr style=\"text-align: right;\">\n",
              "      <th></th>\n",
              "      <th>Area</th>\n",
              "      <th>Time Period</th>\n",
              "      <th>Occupation</th>\n",
              "      <th>Occupation Code</th>\n",
              "      <th>Industry</th>\n",
              "      <th>Employment</th>\n",
              "      <th>10th %</th>\n",
              "      <th>25th %</th>\n",
              "      <th>Entry level</th>\n",
              "      <th>Median</th>\n",
              "      <th>Mean</th>\n",
              "      <th>Experienced</th>\n",
              "      <th>75th %</th>\n",
              "      <th>90th %</th>\n",
              "    </tr>\n",
              "  </thead>\n",
              "  <tbody>\n",
              "    <tr>\n",
              "      <th>0</th>\n",
              "      <td>North Carolina</td>\n",
              "      <td>2022</td>\n",
              "      <td>Management</td>\n",
              "      <td>110000</td>\n",
              "      <td>Total, All Industries</td>\n",
              "      <td>285,550</td>\n",
              "      <td>$52,280</td>\n",
              "      <td>$75,480</td>\n",
              "      <td>$60,590</td>\n",
              "      <td>$104,240</td>\n",
              "      <td>$126,640</td>\n",
              "      <td>$159,180</td>\n",
              "      <td>$158,220</td>\n",
              "      <td>$208,000</td>\n",
              "    </tr>\n",
              "    <tr>\n",
              "      <th>1</th>\n",
              "      <td>North Carolina</td>\n",
              "      <td>2022</td>\n",
              "      <td>Business and Financial Operations</td>\n",
              "      <td>130000</td>\n",
              "      <td>Total, All Industries</td>\n",
              "      <td>302,740</td>\n",
              "      <td>$41,600</td>\n",
              "      <td>$53,990</td>\n",
              "      <td>$46,310</td>\n",
              "      <td>$74,530</td>\n",
              "      <td>$82,730</td>\n",
              "      <td>$100,670</td>\n",
              "      <td>$100,330</td>\n",
              "      <td>$132,610</td>\n",
              "    </tr>\n",
              "    <tr>\n",
              "      <th>2</th>\n",
              "      <td>North Carolina</td>\n",
              "      <td>2022</td>\n",
              "      <td>Computer and Mathematical</td>\n",
              "      <td>150000</td>\n",
              "      <td>Total, All Industries</td>\n",
              "      <td>172,210</td>\n",
              "      <td>$49,880</td>\n",
              "      <td>$68,990</td>\n",
              "      <td>$57,450</td>\n",
              "      <td>$102,370</td>\n",
              "      <td>$104,530</td>\n",
              "      <td>$127,710</td>\n",
              "      <td>$133,200</td>\n",
              "      <td>$164,980</td>\n",
              "    </tr>\n",
              "    <tr>\n",
              "      <th>3</th>\n",
              "      <td>North Carolina</td>\n",
              "      <td>2022</td>\n",
              "      <td>Architecture and Engineering</td>\n",
              "      <td>170000</td>\n",
              "      <td>Total, All Industries</td>\n",
              "      <td>68,190</td>\n",
              "      <td>$46,350</td>\n",
              "      <td>$60,940</td>\n",
              "      <td>$51,120</td>\n",
              "      <td>$79,560</td>\n",
              "      <td>$85,090</td>\n",
              "      <td>$101,820</td>\n",
              "      <td>$102,170</td>\n",
              "      <td>$130,970</td>\n",
              "    </tr>\n",
              "    <tr>\n",
              "      <th>4</th>\n",
              "      <td>North Carolina</td>\n",
              "      <td>2022</td>\n",
              "      <td>Life, Physical, and Social Science</td>\n",
              "      <td>190000</td>\n",
              "      <td>Total, All Industries</td>\n",
              "      <td>41,840</td>\n",
              "      <td>$38,800</td>\n",
              "      <td>$50,010</td>\n",
              "      <td>$43,640</td>\n",
              "      <td>$64,470</td>\n",
              "      <td>$74,320</td>\n",
              "      <td>$89,440</td>\n",
              "      <td>$86,070</td>\n",
              "      <td>$120,640</td>\n",
              "    </tr>\n",
              "  </tbody>\n",
              "</table>\n",
              "</div>\n",
              "    <div class=\"colab-df-buttons\">\n",
              "\n",
              "  <div class=\"colab-df-container\">\n",
              "    <button class=\"colab-df-convert\" onclick=\"convertToInteractive('df-3f9eeae1-5403-452f-8a4b-98a210cd0942')\"\n",
              "            title=\"Convert this dataframe to an interactive table.\"\n",
              "            style=\"display:none;\">\n",
              "\n",
              "  <svg xmlns=\"http://www.w3.org/2000/svg\" height=\"24px\" viewBox=\"0 -960 960 960\">\n",
              "    <path d=\"M120-120v-720h720v720H120Zm60-500h600v-160H180v160Zm220 220h160v-160H400v160Zm0 220h160v-160H400v160ZM180-400h160v-160H180v160Zm440 0h160v-160H620v160ZM180-180h160v-160H180v160Zm440 0h160v-160H620v160Z\"/>\n",
              "  </svg>\n",
              "    </button>\n",
              "\n",
              "  <style>\n",
              "    .colab-df-container {\n",
              "      display:flex;\n",
              "      gap: 12px;\n",
              "    }\n",
              "\n",
              "    .colab-df-convert {\n",
              "      background-color: #E8F0FE;\n",
              "      border: none;\n",
              "      border-radius: 50%;\n",
              "      cursor: pointer;\n",
              "      display: none;\n",
              "      fill: #1967D2;\n",
              "      height: 32px;\n",
              "      padding: 0 0 0 0;\n",
              "      width: 32px;\n",
              "    }\n",
              "\n",
              "    .colab-df-convert:hover {\n",
              "      background-color: #E2EBFA;\n",
              "      box-shadow: 0px 1px 2px rgba(60, 64, 67, 0.3), 0px 1px 3px 1px rgba(60, 64, 67, 0.15);\n",
              "      fill: #174EA6;\n",
              "    }\n",
              "\n",
              "    .colab-df-buttons div {\n",
              "      margin-bottom: 4px;\n",
              "    }\n",
              "\n",
              "    [theme=dark] .colab-df-convert {\n",
              "      background-color: #3B4455;\n",
              "      fill: #D2E3FC;\n",
              "    }\n",
              "\n",
              "    [theme=dark] .colab-df-convert:hover {\n",
              "      background-color: #434B5C;\n",
              "      box-shadow: 0px 1px 3px 1px rgba(0, 0, 0, 0.15);\n",
              "      filter: drop-shadow(0px 1px 2px rgba(0, 0, 0, 0.3));\n",
              "      fill: #FFFFFF;\n",
              "    }\n",
              "  </style>\n",
              "\n",
              "    <script>\n",
              "      const buttonEl =\n",
              "        document.querySelector('#df-3f9eeae1-5403-452f-8a4b-98a210cd0942 button.colab-df-convert');\n",
              "      buttonEl.style.display =\n",
              "        google.colab.kernel.accessAllowed ? 'block' : 'none';\n",
              "\n",
              "      async function convertToInteractive(key) {\n",
              "        const element = document.querySelector('#df-3f9eeae1-5403-452f-8a4b-98a210cd0942');\n",
              "        const dataTable =\n",
              "          await google.colab.kernel.invokeFunction('convertToInteractive',\n",
              "                                                    [key], {});\n",
              "        if (!dataTable) return;\n",
              "\n",
              "        const docLinkHtml = 'Like what you see? Visit the ' +\n",
              "          '<a target=\"_blank\" href=https://colab.research.google.com/notebooks/data_table.ipynb>data table notebook</a>'\n",
              "          + ' to learn more about interactive tables.';\n",
              "        element.innerHTML = '';\n",
              "        dataTable['output_type'] = 'display_data';\n",
              "        await google.colab.output.renderOutput(dataTable, element);\n",
              "        const docLink = document.createElement('div');\n",
              "        docLink.innerHTML = docLinkHtml;\n",
              "        element.appendChild(docLink);\n",
              "      }\n",
              "    </script>\n",
              "  </div>\n",
              "\n",
              "\n",
              "<div id=\"df-0610989c-af5c-4f3c-a5fe-ec9ad664a3b6\">\n",
              "  <button class=\"colab-df-quickchart\" onclick=\"quickchart('df-0610989c-af5c-4f3c-a5fe-ec9ad664a3b6')\"\n",
              "            title=\"Suggest charts.\"\n",
              "            style=\"display:none;\">\n",
              "\n",
              "<svg xmlns=\"http://www.w3.org/2000/svg\" height=\"24px\"viewBox=\"0 0 24 24\"\n",
              "     width=\"24px\">\n",
              "    <g>\n",
              "        <path d=\"M19 3H5c-1.1 0-2 .9-2 2v14c0 1.1.9 2 2 2h14c1.1 0 2-.9 2-2V5c0-1.1-.9-2-2-2zM9 17H7v-7h2v7zm4 0h-2V7h2v10zm4 0h-2v-4h2v4z\"/>\n",
              "    </g>\n",
              "</svg>\n",
              "  </button>\n",
              "\n",
              "<style>\n",
              "  .colab-df-quickchart {\n",
              "      --bg-color: #E8F0FE;\n",
              "      --fill-color: #1967D2;\n",
              "      --hover-bg-color: #E2EBFA;\n",
              "      --hover-fill-color: #174EA6;\n",
              "      --disabled-fill-color: #AAA;\n",
              "      --disabled-bg-color: #DDD;\n",
              "  }\n",
              "\n",
              "  [theme=dark] .colab-df-quickchart {\n",
              "      --bg-color: #3B4455;\n",
              "      --fill-color: #D2E3FC;\n",
              "      --hover-bg-color: #434B5C;\n",
              "      --hover-fill-color: #FFFFFF;\n",
              "      --disabled-bg-color: #3B4455;\n",
              "      --disabled-fill-color: #666;\n",
              "  }\n",
              "\n",
              "  .colab-df-quickchart {\n",
              "    background-color: var(--bg-color);\n",
              "    border: none;\n",
              "    border-radius: 50%;\n",
              "    cursor: pointer;\n",
              "    display: none;\n",
              "    fill: var(--fill-color);\n",
              "    height: 32px;\n",
              "    padding: 0;\n",
              "    width: 32px;\n",
              "  }\n",
              "\n",
              "  .colab-df-quickchart:hover {\n",
              "    background-color: var(--hover-bg-color);\n",
              "    box-shadow: 0 1px 2px rgba(60, 64, 67, 0.3), 0 1px 3px 1px rgba(60, 64, 67, 0.15);\n",
              "    fill: var(--button-hover-fill-color);\n",
              "  }\n",
              "\n",
              "  .colab-df-quickchart-complete:disabled,\n",
              "  .colab-df-quickchart-complete:disabled:hover {\n",
              "    background-color: var(--disabled-bg-color);\n",
              "    fill: var(--disabled-fill-color);\n",
              "    box-shadow: none;\n",
              "  }\n",
              "\n",
              "  .colab-df-spinner {\n",
              "    border: 2px solid var(--fill-color);\n",
              "    border-color: transparent;\n",
              "    border-bottom-color: var(--fill-color);\n",
              "    animation:\n",
              "      spin 1s steps(1) infinite;\n",
              "  }\n",
              "\n",
              "  @keyframes spin {\n",
              "    0% {\n",
              "      border-color: transparent;\n",
              "      border-bottom-color: var(--fill-color);\n",
              "      border-left-color: var(--fill-color);\n",
              "    }\n",
              "    20% {\n",
              "      border-color: transparent;\n",
              "      border-left-color: var(--fill-color);\n",
              "      border-top-color: var(--fill-color);\n",
              "    }\n",
              "    30% {\n",
              "      border-color: transparent;\n",
              "      border-left-color: var(--fill-color);\n",
              "      border-top-color: var(--fill-color);\n",
              "      border-right-color: var(--fill-color);\n",
              "    }\n",
              "    40% {\n",
              "      border-color: transparent;\n",
              "      border-right-color: var(--fill-color);\n",
              "      border-top-color: var(--fill-color);\n",
              "    }\n",
              "    60% {\n",
              "      border-color: transparent;\n",
              "      border-right-color: var(--fill-color);\n",
              "    }\n",
              "    80% {\n",
              "      border-color: transparent;\n",
              "      border-right-color: var(--fill-color);\n",
              "      border-bottom-color: var(--fill-color);\n",
              "    }\n",
              "    90% {\n",
              "      border-color: transparent;\n",
              "      border-bottom-color: var(--fill-color);\n",
              "    }\n",
              "  }\n",
              "</style>\n",
              "\n",
              "  <script>\n",
              "    async function quickchart(key) {\n",
              "      const quickchartButtonEl =\n",
              "        document.querySelector('#' + key + ' button');\n",
              "      quickchartButtonEl.disabled = true;  // To prevent multiple clicks.\n",
              "      quickchartButtonEl.classList.add('colab-df-spinner');\n",
              "      try {\n",
              "        const charts = await google.colab.kernel.invokeFunction(\n",
              "            'suggestCharts', [key], {});\n",
              "      } catch (error) {\n",
              "        console.error('Error during call to suggestCharts:', error);\n",
              "      }\n",
              "      quickchartButtonEl.classList.remove('colab-df-spinner');\n",
              "      quickchartButtonEl.classList.add('colab-df-quickchart-complete');\n",
              "    }\n",
              "    (() => {\n",
              "      let quickchartButtonEl =\n",
              "        document.querySelector('#df-0610989c-af5c-4f3c-a5fe-ec9ad664a3b6 button');\n",
              "      quickchartButtonEl.style.display =\n",
              "        google.colab.kernel.accessAllowed ? 'block' : 'none';\n",
              "    })();\n",
              "  </script>\n",
              "</div>\n",
              "    </div>\n",
              "  </div>\n"
            ]
          },
          "metadata": {},
          "execution_count": 119
        }
      ]
    },
    {
      "cell_type": "markdown",
      "source": [
        "The last five row"
      ],
      "metadata": {
        "id": "15O-AIcUtS1e"
      }
    },
    {
      "cell_type": "code",
      "source": [
        "general_df.tail()"
      ],
      "metadata": {
        "colab": {
          "base_uri": "https://localhost:8080/",
          "height": 382
        },
        "id": "rOAbYuKqeiZ_",
        "outputId": "d2b30594-6119-42f6-f13b-5986226286db"
      },
      "execution_count": 120,
      "outputs": [
        {
          "output_type": "execute_result",
          "data": {
            "text/plain": [
              "              Area  Time Period                             Occupation  \\\n",
              "17  North Carolina         2022         Farming, Fishing, and Forestry   \n",
              "18  North Carolina         2022            Construction and Extraction   \n",
              "19  North Carolina         2022  Installation, Maintenance, and Repair   \n",
              "20  North Carolina         2022                             Production   \n",
              "21  North Carolina         2022     Transportation and Material Moving   \n",
              "\n",
              "    Occupation Code               Industry Employment   10th %   25th %  \\\n",
              "17           450000  Total, All Industries      7,300  $23,140  $29,170   \n",
              "18           470000  Total, All Industries    184,660  $30,710  $36,620   \n",
              "19           490000  Total, All Industries    192,530  $30,010  $37,600   \n",
              "20           510000  Total, All Industries    326,780  $26,390  $30,730   \n",
              "21           530000  Total, All Industries    455,770  $23,250  $29,010   \n",
              "\n",
              "   Entry level   Median     Mean Experienced   75th %   90th %  \n",
              "17     $25,440  $35,500  $38,270     $44,590  $45,290  $57,200  \n",
              "18     $32,900  $45,330  $47,720     $55,020  $55,480  $69,240  \n",
              "19     $32,990  $48,420  $52,160     $61,600  $62,270  $78,280  \n",
              "20     $27,670  $37,270  $41,140     $47,770  $47,680  $61,430  \n",
              "21     $25,520  $34,600  $38,520     $44,920  $43,840  $57,610  "
            ],
            "text/html": [
              "\n",
              "  <div id=\"df-54c0fccc-3b8b-453a-bb9e-4b6a23efba81\" class=\"colab-df-container\">\n",
              "    <div>\n",
              "<style scoped>\n",
              "    .dataframe tbody tr th:only-of-type {\n",
              "        vertical-align: middle;\n",
              "    }\n",
              "\n",
              "    .dataframe tbody tr th {\n",
              "        vertical-align: top;\n",
              "    }\n",
              "\n",
              "    .dataframe thead th {\n",
              "        text-align: right;\n",
              "    }\n",
              "</style>\n",
              "<table border=\"1\" class=\"dataframe\">\n",
              "  <thead>\n",
              "    <tr style=\"text-align: right;\">\n",
              "      <th></th>\n",
              "      <th>Area</th>\n",
              "      <th>Time Period</th>\n",
              "      <th>Occupation</th>\n",
              "      <th>Occupation Code</th>\n",
              "      <th>Industry</th>\n",
              "      <th>Employment</th>\n",
              "      <th>10th %</th>\n",
              "      <th>25th %</th>\n",
              "      <th>Entry level</th>\n",
              "      <th>Median</th>\n",
              "      <th>Mean</th>\n",
              "      <th>Experienced</th>\n",
              "      <th>75th %</th>\n",
              "      <th>90th %</th>\n",
              "    </tr>\n",
              "  </thead>\n",
              "  <tbody>\n",
              "    <tr>\n",
              "      <th>17</th>\n",
              "      <td>North Carolina</td>\n",
              "      <td>2022</td>\n",
              "      <td>Farming, Fishing, and Forestry</td>\n",
              "      <td>450000</td>\n",
              "      <td>Total, All Industries</td>\n",
              "      <td>7,300</td>\n",
              "      <td>$23,140</td>\n",
              "      <td>$29,170</td>\n",
              "      <td>$25,440</td>\n",
              "      <td>$35,500</td>\n",
              "      <td>$38,270</td>\n",
              "      <td>$44,590</td>\n",
              "      <td>$45,290</td>\n",
              "      <td>$57,200</td>\n",
              "    </tr>\n",
              "    <tr>\n",
              "      <th>18</th>\n",
              "      <td>North Carolina</td>\n",
              "      <td>2022</td>\n",
              "      <td>Construction and Extraction</td>\n",
              "      <td>470000</td>\n",
              "      <td>Total, All Industries</td>\n",
              "      <td>184,660</td>\n",
              "      <td>$30,710</td>\n",
              "      <td>$36,620</td>\n",
              "      <td>$32,900</td>\n",
              "      <td>$45,330</td>\n",
              "      <td>$47,720</td>\n",
              "      <td>$55,020</td>\n",
              "      <td>$55,480</td>\n",
              "      <td>$69,240</td>\n",
              "    </tr>\n",
              "    <tr>\n",
              "      <th>19</th>\n",
              "      <td>North Carolina</td>\n",
              "      <td>2022</td>\n",
              "      <td>Installation, Maintenance, and Repair</td>\n",
              "      <td>490000</td>\n",
              "      <td>Total, All Industries</td>\n",
              "      <td>192,530</td>\n",
              "      <td>$30,010</td>\n",
              "      <td>$37,600</td>\n",
              "      <td>$32,990</td>\n",
              "      <td>$48,420</td>\n",
              "      <td>$52,160</td>\n",
              "      <td>$61,600</td>\n",
              "      <td>$62,270</td>\n",
              "      <td>$78,280</td>\n",
              "    </tr>\n",
              "    <tr>\n",
              "      <th>20</th>\n",
              "      <td>North Carolina</td>\n",
              "      <td>2022</td>\n",
              "      <td>Production</td>\n",
              "      <td>510000</td>\n",
              "      <td>Total, All Industries</td>\n",
              "      <td>326,780</td>\n",
              "      <td>$26,390</td>\n",
              "      <td>$30,730</td>\n",
              "      <td>$27,670</td>\n",
              "      <td>$37,270</td>\n",
              "      <td>$41,140</td>\n",
              "      <td>$47,770</td>\n",
              "      <td>$47,680</td>\n",
              "      <td>$61,430</td>\n",
              "    </tr>\n",
              "    <tr>\n",
              "      <th>21</th>\n",
              "      <td>North Carolina</td>\n",
              "      <td>2022</td>\n",
              "      <td>Transportation and Material Moving</td>\n",
              "      <td>530000</td>\n",
              "      <td>Total, All Industries</td>\n",
              "      <td>455,770</td>\n",
              "      <td>$23,250</td>\n",
              "      <td>$29,010</td>\n",
              "      <td>$25,520</td>\n",
              "      <td>$34,600</td>\n",
              "      <td>$38,520</td>\n",
              "      <td>$44,920</td>\n",
              "      <td>$43,840</td>\n",
              "      <td>$57,610</td>\n",
              "    </tr>\n",
              "  </tbody>\n",
              "</table>\n",
              "</div>\n",
              "    <div class=\"colab-df-buttons\">\n",
              "\n",
              "  <div class=\"colab-df-container\">\n",
              "    <button class=\"colab-df-convert\" onclick=\"convertToInteractive('df-54c0fccc-3b8b-453a-bb9e-4b6a23efba81')\"\n",
              "            title=\"Convert this dataframe to an interactive table.\"\n",
              "            style=\"display:none;\">\n",
              "\n",
              "  <svg xmlns=\"http://www.w3.org/2000/svg\" height=\"24px\" viewBox=\"0 -960 960 960\">\n",
              "    <path d=\"M120-120v-720h720v720H120Zm60-500h600v-160H180v160Zm220 220h160v-160H400v160Zm0 220h160v-160H400v160ZM180-400h160v-160H180v160Zm440 0h160v-160H620v160ZM180-180h160v-160H180v160Zm440 0h160v-160H620v160Z\"/>\n",
              "  </svg>\n",
              "    </button>\n",
              "\n",
              "  <style>\n",
              "    .colab-df-container {\n",
              "      display:flex;\n",
              "      gap: 12px;\n",
              "    }\n",
              "\n",
              "    .colab-df-convert {\n",
              "      background-color: #E8F0FE;\n",
              "      border: none;\n",
              "      border-radius: 50%;\n",
              "      cursor: pointer;\n",
              "      display: none;\n",
              "      fill: #1967D2;\n",
              "      height: 32px;\n",
              "      padding: 0 0 0 0;\n",
              "      width: 32px;\n",
              "    }\n",
              "\n",
              "    .colab-df-convert:hover {\n",
              "      background-color: #E2EBFA;\n",
              "      box-shadow: 0px 1px 2px rgba(60, 64, 67, 0.3), 0px 1px 3px 1px rgba(60, 64, 67, 0.15);\n",
              "      fill: #174EA6;\n",
              "    }\n",
              "\n",
              "    .colab-df-buttons div {\n",
              "      margin-bottom: 4px;\n",
              "    }\n",
              "\n",
              "    [theme=dark] .colab-df-convert {\n",
              "      background-color: #3B4455;\n",
              "      fill: #D2E3FC;\n",
              "    }\n",
              "\n",
              "    [theme=dark] .colab-df-convert:hover {\n",
              "      background-color: #434B5C;\n",
              "      box-shadow: 0px 1px 3px 1px rgba(0, 0, 0, 0.15);\n",
              "      filter: drop-shadow(0px 1px 2px rgba(0, 0, 0, 0.3));\n",
              "      fill: #FFFFFF;\n",
              "    }\n",
              "  </style>\n",
              "\n",
              "    <script>\n",
              "      const buttonEl =\n",
              "        document.querySelector('#df-54c0fccc-3b8b-453a-bb9e-4b6a23efba81 button.colab-df-convert');\n",
              "      buttonEl.style.display =\n",
              "        google.colab.kernel.accessAllowed ? 'block' : 'none';\n",
              "\n",
              "      async function convertToInteractive(key) {\n",
              "        const element = document.querySelector('#df-54c0fccc-3b8b-453a-bb9e-4b6a23efba81');\n",
              "        const dataTable =\n",
              "          await google.colab.kernel.invokeFunction('convertToInteractive',\n",
              "                                                    [key], {});\n",
              "        if (!dataTable) return;\n",
              "\n",
              "        const docLinkHtml = 'Like what you see? Visit the ' +\n",
              "          '<a target=\"_blank\" href=https://colab.research.google.com/notebooks/data_table.ipynb>data table notebook</a>'\n",
              "          + ' to learn more about interactive tables.';\n",
              "        element.innerHTML = '';\n",
              "        dataTable['output_type'] = 'display_data';\n",
              "        await google.colab.output.renderOutput(dataTable, element);\n",
              "        const docLink = document.createElement('div');\n",
              "        docLink.innerHTML = docLinkHtml;\n",
              "        element.appendChild(docLink);\n",
              "      }\n",
              "    </script>\n",
              "  </div>\n",
              "\n",
              "\n",
              "<div id=\"df-07e3b078-6e25-4ca5-b2f0-d33d937436b7\">\n",
              "  <button class=\"colab-df-quickchart\" onclick=\"quickchart('df-07e3b078-6e25-4ca5-b2f0-d33d937436b7')\"\n",
              "            title=\"Suggest charts.\"\n",
              "            style=\"display:none;\">\n",
              "\n",
              "<svg xmlns=\"http://www.w3.org/2000/svg\" height=\"24px\"viewBox=\"0 0 24 24\"\n",
              "     width=\"24px\">\n",
              "    <g>\n",
              "        <path d=\"M19 3H5c-1.1 0-2 .9-2 2v14c0 1.1.9 2 2 2h14c1.1 0 2-.9 2-2V5c0-1.1-.9-2-2-2zM9 17H7v-7h2v7zm4 0h-2V7h2v10zm4 0h-2v-4h2v4z\"/>\n",
              "    </g>\n",
              "</svg>\n",
              "  </button>\n",
              "\n",
              "<style>\n",
              "  .colab-df-quickchart {\n",
              "      --bg-color: #E8F0FE;\n",
              "      --fill-color: #1967D2;\n",
              "      --hover-bg-color: #E2EBFA;\n",
              "      --hover-fill-color: #174EA6;\n",
              "      --disabled-fill-color: #AAA;\n",
              "      --disabled-bg-color: #DDD;\n",
              "  }\n",
              "\n",
              "  [theme=dark] .colab-df-quickchart {\n",
              "      --bg-color: #3B4455;\n",
              "      --fill-color: #D2E3FC;\n",
              "      --hover-bg-color: #434B5C;\n",
              "      --hover-fill-color: #FFFFFF;\n",
              "      --disabled-bg-color: #3B4455;\n",
              "      --disabled-fill-color: #666;\n",
              "  }\n",
              "\n",
              "  .colab-df-quickchart {\n",
              "    background-color: var(--bg-color);\n",
              "    border: none;\n",
              "    border-radius: 50%;\n",
              "    cursor: pointer;\n",
              "    display: none;\n",
              "    fill: var(--fill-color);\n",
              "    height: 32px;\n",
              "    padding: 0;\n",
              "    width: 32px;\n",
              "  }\n",
              "\n",
              "  .colab-df-quickchart:hover {\n",
              "    background-color: var(--hover-bg-color);\n",
              "    box-shadow: 0 1px 2px rgba(60, 64, 67, 0.3), 0 1px 3px 1px rgba(60, 64, 67, 0.15);\n",
              "    fill: var(--button-hover-fill-color);\n",
              "  }\n",
              "\n",
              "  .colab-df-quickchart-complete:disabled,\n",
              "  .colab-df-quickchart-complete:disabled:hover {\n",
              "    background-color: var(--disabled-bg-color);\n",
              "    fill: var(--disabled-fill-color);\n",
              "    box-shadow: none;\n",
              "  }\n",
              "\n",
              "  .colab-df-spinner {\n",
              "    border: 2px solid var(--fill-color);\n",
              "    border-color: transparent;\n",
              "    border-bottom-color: var(--fill-color);\n",
              "    animation:\n",
              "      spin 1s steps(1) infinite;\n",
              "  }\n",
              "\n",
              "  @keyframes spin {\n",
              "    0% {\n",
              "      border-color: transparent;\n",
              "      border-bottom-color: var(--fill-color);\n",
              "      border-left-color: var(--fill-color);\n",
              "    }\n",
              "    20% {\n",
              "      border-color: transparent;\n",
              "      border-left-color: var(--fill-color);\n",
              "      border-top-color: var(--fill-color);\n",
              "    }\n",
              "    30% {\n",
              "      border-color: transparent;\n",
              "      border-left-color: var(--fill-color);\n",
              "      border-top-color: var(--fill-color);\n",
              "      border-right-color: var(--fill-color);\n",
              "    }\n",
              "    40% {\n",
              "      border-color: transparent;\n",
              "      border-right-color: var(--fill-color);\n",
              "      border-top-color: var(--fill-color);\n",
              "    }\n",
              "    60% {\n",
              "      border-color: transparent;\n",
              "      border-right-color: var(--fill-color);\n",
              "    }\n",
              "    80% {\n",
              "      border-color: transparent;\n",
              "      border-right-color: var(--fill-color);\n",
              "      border-bottom-color: var(--fill-color);\n",
              "    }\n",
              "    90% {\n",
              "      border-color: transparent;\n",
              "      border-bottom-color: var(--fill-color);\n",
              "    }\n",
              "  }\n",
              "</style>\n",
              "\n",
              "  <script>\n",
              "    async function quickchart(key) {\n",
              "      const quickchartButtonEl =\n",
              "        document.querySelector('#' + key + ' button');\n",
              "      quickchartButtonEl.disabled = true;  // To prevent multiple clicks.\n",
              "      quickchartButtonEl.classList.add('colab-df-spinner');\n",
              "      try {\n",
              "        const charts = await google.colab.kernel.invokeFunction(\n",
              "            'suggestCharts', [key], {});\n",
              "      } catch (error) {\n",
              "        console.error('Error during call to suggestCharts:', error);\n",
              "      }\n",
              "      quickchartButtonEl.classList.remove('colab-df-spinner');\n",
              "      quickchartButtonEl.classList.add('colab-df-quickchart-complete');\n",
              "    }\n",
              "    (() => {\n",
              "      let quickchartButtonEl =\n",
              "        document.querySelector('#df-07e3b078-6e25-4ca5-b2f0-d33d937436b7 button');\n",
              "      quickchartButtonEl.style.display =\n",
              "        google.colab.kernel.accessAllowed ? 'block' : 'none';\n",
              "    })();\n",
              "  </script>\n",
              "</div>\n",
              "    </div>\n",
              "  </div>\n"
            ]
          },
          "metadata": {},
          "execution_count": 120
        }
      ]
    },
    {
      "cell_type": "code",
      "source": [
        "general_df.columns"
      ],
      "metadata": {
        "colab": {
          "base_uri": "https://localhost:8080/"
        },
        "id": "joKVvEWQeUw-",
        "outputId": "ea64f5ff-aadb-4e27-e396-749d6fd4b511"
      },
      "execution_count": 121,
      "outputs": [
        {
          "output_type": "execute_result",
          "data": {
            "text/plain": [
              "Index(['Area', 'Time Period', 'Occupation', 'Occupation Code', 'Industry',\n",
              "       'Employment', '10th %', '25th %', 'Entry level', 'Median', 'Mean',\n",
              "       'Experienced', '75th %', '90th %'],\n",
              "      dtype='object')"
            ]
          },
          "metadata": {},
          "execution_count": 121
        }
      ]
    },
    {
      "cell_type": "code",
      "source": [
        "general_df.shape"
      ],
      "metadata": {
        "colab": {
          "base_uri": "https://localhost:8080/"
        },
        "id": "kHcCthROeZ8_",
        "outputId": "c1c16d19-f12a-4e63-f072-7d05724750b0"
      },
      "execution_count": 122,
      "outputs": [
        {
          "output_type": "execute_result",
          "data": {
            "text/plain": [
              "(22, 14)"
            ]
          },
          "metadata": {},
          "execution_count": 122
        }
      ]
    },
    {
      "cell_type": "code",
      "source": [
        "general_df['Employment'].describe()"
      ],
      "metadata": {
        "colab": {
          "base_uri": "https://localhost:8080/"
        },
        "id": "4nI4PxjjemQt",
        "outputId": "1da716d2-8301-495e-8ff4-6f1811b4c923"
      },
      "execution_count": 123,
      "outputs": [
        {
          "output_type": "execute_result",
          "data": {
            "text/plain": [
              "count          22\n",
              "unique         22\n",
              "top       285,550\n",
              "freq            1\n",
              "Name: Employment, dtype: object"
            ]
          },
          "metadata": {},
          "execution_count": 123
        }
      ]
    },
    {
      "cell_type": "code",
      "source": [
        "general_df['Entry level'].describe()"
      ],
      "metadata": {
        "colab": {
          "base_uri": "https://localhost:8080/"
        },
        "id": "bViHSnA7e6ND",
        "outputId": "6f75dd51-5470-41e4-b81d-3f5e7994f122"
      },
      "execution_count": 124,
      "outputs": [
        {
          "output_type": "execute_result",
          "data": {
            "text/plain": [
              "count          22\n",
              "unique         22\n",
              "top       $60,590\n",
              "freq            1\n",
              "Name: Entry level, dtype: object"
            ]
          },
          "metadata": {},
          "execution_count": 124
        }
      ]
    },
    {
      "cell_type": "code",
      "source": [
        "general_df['Experienced'].describe()"
      ],
      "metadata": {
        "colab": {
          "base_uri": "https://localhost:8080/"
        },
        "id": "gJA9SOT9f3YL",
        "outputId": "751617cd-d13d-4435-b079-a15447267f28"
      },
      "execution_count": 125,
      "outputs": [
        {
          "output_type": "execute_result",
          "data": {
            "text/plain": [
              "count           22\n",
              "unique          22\n",
              "top       $159,180\n",
              "freq             1\n",
              "Name: Experienced, dtype: object"
            ]
          },
          "metadata": {},
          "execution_count": 125
        }
      ]
    },
    {
      "cell_type": "markdown",
      "source": [
        "# Convert Data in CSV file to Integer to Make it Processable"
      ],
      "metadata": {
        "id": "o8rFKabJn4cf"
      }
    },
    {
      "cell_type": "code",
      "source": [
        "myHash = defaultdict(list)\n",
        "meanHash = defaultdict()\n",
        "maxHash = defaultdict()\n",
        "minHash = defaultdict()\n",
        "\n",
        "columns = ['10th %', '25th %', 'Entry level', 'Median', 'Mean', 'Experienced', '75th %', '90th %']\n",
        "for column in columns:\n",
        "  for i in range(len(general_df['Entry level'])):\n",
        "    # print(column)\n",
        "    cur_int = int(general_df[column][i][1:].replace(\",\", \"\").replace(\".\", \"\").replace(\"$\", \"\"))\n",
        "    myHash[column].append(cur_int)\n",
        "  meanHash[column] = int(statistics.mean(myHash[column]))\n",
        "  maxHash[column] = int(max(myHash[column]))\n",
        "  minHash[column] = int(min(myHash[column]))\n",
        "print(myHash)\n",
        "print(meanHash)\n",
        "print(maxHash)\n",
        "print(meanHash)\n",
        "print(minHash)"
      ],
      "metadata": {
        "colab": {
          "base_uri": "https://localhost:8080/"
        },
        "id": "9ZoCXSvqkmJr",
        "outputId": "b5a07722-b111-4ab7-a5a5-2ab200d796f9"
      },
      "execution_count": 126,
      "outputs": [
        {
          "output_type": "stream",
          "name": "stdout",
          "text": [
            "defaultdict(<class 'list'>, {'10th %': [52280, 41600, 49880, 46350, 38800, 31670, 38750, 23850, 28700, 36990, 22030, 24050, 18120, 21800, 19880, 21300, 26860, 23140, 30710, 30010, 26390, 23250], '25th %': [75480, 53990, 68990, 60940, 50010, 39000, 50190, 32780, 36490, 50300, 25680, 29280, 21200, 24700, 22290, 24520, 31730, 29170, 36620, 37600, 30730, 29010], 'Entry level': [60590, 46310, 57450, 51120, 43640, 34470, 43580, 28260, 31130, 42940, 23370, 26320, 19400, 22980, 20670, 22410, 28320, 25440, 32900, 32990, 27670, 25520], 'Median': [104240, 74530, 102370, 79560, 64470, 48190, 70520, 47920, 51640, 66650, 31500, 38360, 26100, 29390, 28560, 32380, 38370, 35500, 45330, 48420, 37270, 34600], 'Mean': [126640, 82730, 104530, 85090, 74320, 51620, 102780, 52930, 66670, 87180, 33240, 42860, 28190, 31760, 33440, 47660, 41880, 38270, 47720, 52160, 41140, 38520], 'Experienced': [159180, 100670, 127710, 101820, 89440, 60060, 131940, 65080, 84180, 108970, 38110, 51010, 32520, 36090, 39730, 60090, 48570, 44590, 55020, 61600, 47770, 44920], '75th %': [158220, 100330, 133200, 102170, 86070, 59830, 127350, 60130, 76260, 95280, 37460, 49920, 30870, 35280, 37480, 53340, 48460, 45290, 55480, 62270, 47680, 43840], '90th %': [208000, 132610, 164980, 130970, 120640, 73060, 208000, 78700, 105690, 138150, 45870, 66780, 41480, 44780, 53960, 91300, 61650, 57200, 69240, 78280, 61430, 57610]})\n",
            "defaultdict(None, {'10th %': 30745, '25th %': 39122, 'Entry level': 33976, 'Median': 51630, 'Mean': 59605, 'Experienced': 72230, '75th %': 70282, '90th %': 95017})\n",
            "defaultdict(None, {'10th %': 52280, '25th %': 75480, 'Entry level': 60590, 'Median': 104240, 'Mean': 126640, 'Experienced': 159180, '75th %': 158220, '90th %': 208000})\n",
            "defaultdict(None, {'10th %': 30745, '25th %': 39122, 'Entry level': 33976, 'Median': 51630, 'Mean': 59605, 'Experienced': 72230, '75th %': 70282, '90th %': 95017})\n",
            "defaultdict(None, {'10th %': 18120, '25th %': 21200, 'Entry level': 19400, 'Median': 26100, 'Mean': 28190, 'Experienced': 32520, '75th %': 30870, '90th %': 41480})\n"
          ]
        }
      ]
    },
    {
      "cell_type": "markdown",
      "source": [
        "# Plot the values for different experience level"
      ],
      "metadata": {
        "id": "rkNkJv0asoyb"
      }
    },
    {
      "cell_type": "code",
      "source": [
        "plt.figure(figsize=(10,6))\n",
        "\n",
        "print(list(meanHash.values()))\n",
        "plt.bar(columns, meanHash.values())  # You can adjust the number of bins as needed\n",
        "plt.title('Average Wage for Employers of Different Experience Level')\n",
        "plt.xlabel('Experience Level')\n",
        "plt.ylabel('Wage')\n",
        "plt.grid(axis = 'y')\n",
        "plt.show()\n",
        "\n",
        "plt.figure(figsize=(10,6))\n",
        "plt.bar(columns, maxHash.values())  # You can adjust the number of bins as needed\n",
        "plt.title('Max Wage for Employers of Different Experience Level')\n",
        "plt.xlabel('Experience Level')\n",
        "plt.ylabel('Wage')\n",
        "plt.grid(axis = 'y')\n",
        "plt.show()\n",
        "\n",
        "plt.figure(figsize=(10,6))\n",
        "plt.bar(columns, minHash.values())  # You can adjust the number of bins as needed\n",
        "plt.title('Min Wage for Employers of Different Experience Level')\n",
        "plt.xlabel('Experience Level')\n",
        "plt.ylabel('Wage')\n",
        "plt.grid(axis = 'y')\n",
        "plt.show()"
      ],
      "metadata": {
        "colab": {
          "base_uri": "https://localhost:8080/",
          "height": 1000
        },
        "id": "5IwRGMWMgFsj",
        "outputId": "5b4aa382-8eea-4185-ee27-7def73336b76"
      },
      "execution_count": 127,
      "outputs": [
        {
          "output_type": "stream",
          "name": "stdout",
          "text": [
            "[30745, 39122, 33976, 51630, 59605, 72230, 70282, 95017]\n"
          ]
        },
        {
          "output_type": "display_data",
          "data": {
            "text/plain": [
              "<Figure size 1000x600 with 1 Axes>"
            ],
            "image/png": "[encoded data removed]"
          },
          "metadata": {}
        },
        {
          "output_type": "display_data",
          "data": {
            "text/plain": [
              "<Figure size 1000x600 with 1 Axes>"
            ],
            "image/png": "[encoded data removed]"
          },
          "metadata": {}
        },
        {
          "output_type": "display_data",
          "data": {
            "text/plain": [
              "<Figure size 1000x600 with 1 Axes>"
            ],
            "image/png": "[encoded data removed]"
          },
          "metadata": {}
        }
      ]
    }
  ]
}